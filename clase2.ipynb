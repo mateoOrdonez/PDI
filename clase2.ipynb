{
  "nbformat": 4,
  "nbformat_minor": 0,
  "metadata": {
    "colab": {
      "name": "Untitled0.ipynb",
      "provenance": [],
      "authorship_tag": "ABX9TyMS0fOn+/g0OVr02oN0sigI",
      "include_colab_link": true
    },
    "kernelspec": {
      "name": "python3",
      "display_name": "Python 3"
    }
  },
  "cells": [
    {
      "cell_type": "markdown",
      "metadata": {
        "id": "view-in-github",
        "colab_type": "text"
      },
      "source": [
        "<a href=\"https://colab.research.google.com/github/matyjefe/PDI/blob/master/clase2.ipynb\" target=\"_parent\"><img src=\"https://colab.research.google.com/assets/colab-badge.svg\" alt=\"Open In Colab\"/></a>"
      ]
    },
    {
      "cell_type": "code",
      "metadata": {
        "id": "qq1W1-eQlVOQ",
        "colab_type": "code",
        "colab": {
          "base_uri": "https://localhost:8080/",
          "height": 34
        },
        "outputId": "e26b514e-f586-483f-9a9f-e86dd67765c0"
      },
      "source": [
        "x = 0\n",
        "print (x)            "
      ],
      "execution_count": 1,
      "outputs": [
        {
          "output_type": "stream",
          "text": [
            "0\n"
          ],
          "name": "stdout"
        }
      ]
    },
    {
      "cell_type": "code",
      "metadata": {
        "id": "bkklinU2lm6Y",
        "colab_type": "code",
        "colab": {
          "base_uri": "https://localhost:8080/",
          "height": 34
        },
        "outputId": "2c251f11-11ec-4221-d366-154f9b808c89"
      },
      "source": [
        "y = 0.0 # Punto flotante\n",
        "z = True # Booleano\n",
        "f = \"\"\n",
        "print(y,z)"
      ],
      "execution_count": 3,
      "outputs": [
        {
          "output_type": "stream",
          "text": [
            "0.0 True\n"
          ],
          "name": "stdout"
        }
      ]
    },
    {
      "cell_type": "code",
      "metadata": {
        "id": "nt4u4yS3nHbj",
        "colab_type": "code",
        "colab": {}
      },
      "source": [
        "import cv2"
      ],
      "execution_count": 0,
      "outputs": []
    },
    {
      "cell_type": "code",
      "metadata": {
        "id": "CBxPCvY6nqkK",
        "colab_type": "code",
        "colab": {
          "base_uri": "https://localhost:8080/",
          "height": 34
        },
        "outputId": "e192159f-e8c9-4984-f185-e3a3fb3b6ab4"
      },
      "source": [
        "def suma (d,w):\n",
        "  return d + w\n",
        "\n",
        "suma (2,3)"
      ],
      "execution_count": 7,
      "outputs": [
        {
          "output_type": "execute_result",
          "data": {
            "text/plain": [
              "5"
            ]
          },
          "metadata": {
            "tags": []
          },
          "execution_count": 7
        }
      ]
    },
    {
      "cell_type": "code",
      "metadata": {
        "id": "Ggo1pRw-qY4J",
        "colab_type": "code",
        "colab": {
          "base_uri": "https://localhost:8080/",
          "height": 34
        },
        "outputId": "a65d9ff7-52ab-4575-f247-6622cb0400c2"
      },
      "source": [
        "# Perimetro de un cuadrado\n",
        "\n",
        "def perimetro (l):\n",
        "  return l * 4\n",
        "\n",
        "# Area del cuadrado\n",
        "\n",
        "def area (l):\n",
        "  return l * l\n",
        "\n",
        "# Cuadrado\n",
        "\n",
        "def cuadrado (l):\n",
        "  return perimetro (l), area(l)\n",
        "\n",
        "cuadrado(2)\n"
      ],
      "execution_count": 28,
      "outputs": [
        {
          "output_type": "execute_result",
          "data": {
            "text/plain": [
              "(8, 4)"
            ]
          },
          "metadata": {
            "tags": []
          },
          "execution_count": 28
        }
      ]
    },
    {
      "cell_type": "code",
      "metadata": {
        "id": "-grCR6fI3l2A",
        "colab_type": "code",
        "colab": {
          "base_uri": "https://localhost:8080/",
          "height": 34
        },
        "outputId": "5d331377-b846-4a9b-c60d-4a17a94f5d45"
      },
      "source": [
        "# Crear lista\n",
        "x = []\n",
        "# llenar lista \n",
        "x = [1,2,3,4]\n",
        "# Mostrar lista \n",
        "x[0]\n",
        "# Asigna un valor\n",
        "x[1]=2\n",
        "x[1]\n",
        "\n",
        "# x.append (5), introduce un valor a la ultima posicion de la lista\n",
        "# x.remove (3), borra el valor indicado en el indice\n",
        "# del x[0], borra el valor en el indice indicado"
      ],
      "execution_count": 33,
      "outputs": [
        {
          "output_type": "execute_result",
          "data": {
            "text/plain": [
              "2"
            ]
          },
          "metadata": {
            "tags": []
          },
          "execution_count": 33
        }
      ]
    },
    {
      "cell_type": "code",
      "metadata": {
        "id": "RE74nRgF4fKY",
        "colab_type": "code",
        "colab": {
          "base_uri": "https://localhost:8080/",
          "height": 34
        },
        "outputId": "9248bad8-2495-4528-e856-bc76d4c3b796"
      },
      "source": [
        "x = [1,2,3,4,5,6]\n",
        "x.append(7)\n",
        "x[6]"
      ],
      "execution_count": 49,
      "outputs": [
        {
          "output_type": "execute_result",
          "data": {
            "text/plain": [
              "7"
            ]
          },
          "metadata": {
            "tags": []
          },
          "execution_count": 49
        }
      ]
    },
    {
      "cell_type": "code",
      "metadata": {
        "id": "HLYrfGgw4qQX",
        "colab_type": "code",
        "colab": {
          "base_uri": "https://localhost:8080/",
          "height": 34
        },
        "outputId": "2bdd8e0d-a718-4a4e-baa9-a91a7024ee2d"
      },
      "source": [
        "del x[2]\n",
        "x[2]"
      ],
      "execution_count": 50,
      "outputs": [
        {
          "output_type": "execute_result",
          "data": {
            "text/plain": [
              "4"
            ]
          },
          "metadata": {
            "tags": []
          },
          "execution_count": 50
        }
      ]
    },
    {
      "cell_type": "code",
      "metadata": {
        "id": "KfywNYtg5J75",
        "colab_type": "code",
        "colab": {
          "base_uri": "https://localhost:8080/",
          "height": 34
        },
        "outputId": "1be4bc2d-89b5-4ef8-a6a4-a68cdcd705a3"
      },
      "source": [
        "print (x)"
      ],
      "execution_count": 51,
      "outputs": [
        {
          "output_type": "stream",
          "text": [
            "[1, 2, 4, 5, 6, 7]\n"
          ],
          "name": "stdout"
        }
      ]
    }
  ]
}